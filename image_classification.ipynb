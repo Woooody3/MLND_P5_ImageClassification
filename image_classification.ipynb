{
 "cells": [
  {
   "cell_type": "markdown",
   "metadata": {
    "collapsed": true
   },
   "source": [
    "# Image Classification\n",
    "In this project, you'll classify images from the [CIFAR-10 dataset](https://www.cs.toronto.edu/~kriz/cifar.html).  The dataset consists of airplanes, dogs, cats, and other objects. You'll preprocess the images, then train a convolutional neural network on all the samples. The images need to be normalized and the labels need to be one-hot encoded.  You'll get to apply what you learned and build a convolutional, max pooling, dropout, and fully connected layers.  At the end, you'll get to see your neural network's predictions on the sample images.\n",
    "## Get the Data\n",
    "Run the following cell to download the [CIFAR-10 dataset for python](https://www.cs.toronto.edu/~kriz/cifar-10-python.tar.gz)."
   ]
  },
  {
   "cell_type": "code",
   "execution_count": 1,
   "metadata": {},
   "outputs": [
    {
     "name": "stdout",
     "output_type": "stream",
     "text": [
      "3.5.3 |Continuum Analytics, Inc.| (default, Mar  6 2017, 12:15:08) \n",
      "[GCC 4.2.1 Compatible Apple LLVM 6.0 (clang-600.0.57)]\n",
      "All files found!\n"
     ]
    }
   ],
   "source": [
    "import sys\n",
    "print (sys.version)\n",
    "\"\"\"\n",
    "DON'T MODIFY ANYTHING IN THIS CELL THAT IS BELOW THIS LINE\n",
    "\"\"\"\n",
    "from urllib.request import urlretrieve\n",
    "from os.path import isfile, isdir\n",
    "from tqdm import tqdm\n",
    "import problem_unittests as tests\n",
    "import tarfile\n",
    "\n",
    "cifar10_dataset_folder_path = 'cifar-10-batches-py'\n",
    "\n",
    "class DLProgress(tqdm):\n",
    "    last_block = 0\n",
    "\n",
    "    def hook(self, block_num=1, block_size=1, total_size=None):\n",
    "        self.total = total_size\n",
    "        self.update((block_num - self.last_block) * block_size)\n",
    "        self.last_block = block_num\n",
    "\n",
    "if not isfile('cifar-10-python.tar.gz'):\n",
    "    with DLProgress(unit='B', unit_scale=True, miniters=1, desc='CIFAR-10 Dataset') as pbar:\n",
    "        urlretrieve(\n",
    "            'https://www.cs.toronto.edu/~kriz/cifar-10-python.tar.gz',\n",
    "            'cifar-10-python.tar.gz',\n",
    "            pbar.hook)\n",
    "\n",
    "if not isdir(cifar10_dataset_folder_path):\n",
    "    with tarfile.open('cifar-10-python.tar.gz') as tar:\n",
    "        tar.extractall()\n",
    "        tar.close()\n",
    "\n",
    "\n",
    "tests.test_folder_path(cifar10_dataset_folder_path)"
   ]
  },
  {
   "cell_type": "markdown",
   "metadata": {},
   "source": [
    "## Explore the Data\n",
    "The dataset is broken into batches to prevent your machine from running out of memory.  The CIFAR-10 dataset consists of 5 batches, named `data_batch_1`, `data_batch_2`, etc.. Each batch contains the labels and images that are one of the following:\n",
    "* airplane\n",
    "* automobile\n",
    "* bird\n",
    "* cat\n",
    "* deer\n",
    "* dog\n",
    "* frog\n",
    "* horse\n",
    "* ship\n",
    "* truck\n",
    "\n",
    "Understanding a dataset is part of making predictions on the data.  Play around with the code cell below by changing the `batch_id` and `sample_id`. The `batch_id` is the id for a batch (1-5). The `sample_id` is the id for a image and label pair in the batch.\n",
    "\n",
    "Ask yourself \"What are all possible labels?\", \"What is the range of values for the image data?\", \"Are the labels in order or random?\".  Answers to questions like these will help you preprocess the data and end up with better predictions."
   ]
  },
  {
   "cell_type": "code",
   "execution_count": 2,
   "metadata": {},
   "outputs": [
    {
     "name": "stdout",
     "output_type": "stream",
     "text": [
      "\n",
      "Stats of batch 2:\n",
      "Samples: 10000\n",
      "Label Counts: {0: 984, 1: 1007, 2: 1010, 3: 995, 4: 1010, 5: 988, 6: 1008, 7: 1026, 8: 987, 9: 985}\n",
      "First 20 Labels: [1, 6, 6, 8, 8, 3, 4, 6, 0, 6, 0, 3, 6, 6, 5, 4, 8, 3, 2, 6]\n",
      "\n",
      "Example of Image 3:\n",
      "Image - Min Value: 4 Max Value: 255\n",
      "Image - Shape: (32, 32, 3)\n",
      "Label - Label Id: 8 Name: ship\n"
     ]
    },
    {
     "data": {
      "image/png": "[encoded data removed]",
      "text/plain": [
       "<matplotlib.figure.Figure at 0x1177f1ac8>"
      ]
     },
     "metadata": {
      "image/png": {
       "height": 250,
       "width": 253
      }
     },
     "output_type": "display_data"
    }
   ],
   "source": [
    "%matplotlib inline\n",
    "%config InlineBackend.figure_format = 'retina'\n",
    "\n",
    "import helper\n",
    "import numpy as np\n",
    "\n",
    "# Explore the dataset\n",
    "batch_id = 2\n",
    "sample_id = 3\n",
    "helper.display_stats(cifar10_dataset_folder_path, batch_id, sample_id)"
   ]
  },
  {
   "cell_type": "markdown",
   "metadata": {},
   "source": [
    "## Implement Preprocess Functions\n",
    "### Normalize\n",
    "In the cell below, implement the `normalize` function to take in image data, `x`, and return it as a normalized Numpy array. The values should be in the range of 0 to 1, inclusive.  The return object should be the same shape as `x`."
   ]
  },
  {
   "cell_type": "code",
   "execution_count": 12,
   "metadata": {},
   "outputs": [
    {
     "name": "stdout",
     "output_type": "stream",
     "text": [
      "Tests Passed\n"
     ]
    }
   ],
   "source": [
    "def normalize(x):\n",
    "    \"\"\"\n",
    "    Normalize a list of sample image data in the range of 0 to 1\n",
    "    : x: List of image data.  The image shape is (32, 32, 3)\n",
    "    : return: Numpy array of normalize data\n",
    "    \"\"\"\n",
    "    # TODO: Implement Function\n",
    "    return (x - x.min())/x.ptp()\n",
    "\n",
    "\"\"\"\n",
    "DON'T MODIFY ANYTHING IN THIS CELL THAT IS BELOW THIS LINE\n",
    "\"\"\"\n",
    "tests.test_normalize(normalize)"
   ]
  },
  {
   "cell_type": "markdown",
   "metadata": {},
   "source": [
    "### One-hot encode\n",
    "Just like the previous code cell, you'll be implementing a function for preprocessing.  This time, you'll implement the `one_hot_encode` function. The input, `x`, are a list of labels.  Implement the function to return the list of labels as One-Hot encoded Numpy array.  The possible values for labels are 0 to 9. The one-hot encoding function should return the same encoding for each value between each call to `one_hot_encode`.  Make sure to save the map of encodings outside the function.\n",
    "\n",
    "**Hint:**\n",
    "\n",
    "Look into LabelBinarizer in the preprocessing module of sklearn."
   ]
  },
  {
   "cell_type": "code",
   "execution_count": 4,
   "metadata": {},
   "outputs": [
    {
     "name": "stdout",
     "output_type": "stream",
     "text": [
      "Tests Passed\n"
     ]
    }
   ],
   "source": [
    "def one_hot_encode(x):\n",
    "    \"\"\"\n",
    "    One hot encode a list of sample labels. Return a one-hot encoded vector for each label.\n",
    "    : x: List of sample Labels\n",
    "    : return: Numpy array of one-hot encoded labels\n",
    "    \"\"\"\n",
    "    # TODO: Implement Function\n",
    "    \n",
    "    #from sklearn.preprocessing import LabelBinarizer \n",
    "    #lb = LabelBinarizer()\n",
    "    #encoding_map = range(0,10)\n",
    "    #lb.fit(encoding_map)\n",
    "    #return lb.transform(x)\n",
    "    # UPDATE: thanks to review_1's tip of using \"np.eye\"\n",
    "    return np.eye(10)[x]\n",
    "\n",
    "\"\"\"\n",
    "DON'T MODIFY ANYTHING IN THIS CELL THAT IS BELOW THIS LINE\n",
    "\"\"\"\n",
    "tests.test_one_hot_encode(one_hot_encode)"
   ]
  },
  {
   "cell_type": "markdown",
   "metadata": {},
   "source": [
    "### Randomize Data\n",
    "As you saw from exploring the data above, the order of the samples are randomized.  It doesn't hurt to randomize it again, but you don't need to for this dataset."
   ]
  },
  {
   "cell_type": "markdown",
   "metadata": {},
   "source": [
    "## Preprocess all the data and save it\n",
    "Running the code cell below will preprocess all the CIFAR-10 data and save it to file. The code below also uses 10% of the training data for validation."
   ]
  },
  {
   "cell_type": "code",
   "execution_count": 5,
   "metadata": {
    "collapsed": true
   },
   "outputs": [],
   "source": [
    "\"\"\"\n",
    "DON'T MODIFY ANYTHING IN THIS CELL\n",
    "\"\"\"\n",
    "# Preprocess Training, Validation, and Testing Data\n",
    "helper.preprocess_and_save_data(cifar10_dataset_folder_path, normalize, one_hot_encode)"
   ]
  },
  {
   "cell_type": "markdown",
   "metadata": {},
   "source": [
    "# Check Point\n",
    "This is your first checkpoint.  If you ever decide to come back to this notebook or have to restart the notebook, you can start from here.  The preprocessed data has been saved to disk."
   ]
  },
  {
   "cell_type": "code",
   "execution_count": 6,
   "metadata": {
    "collapsed": true
   },
   "outputs": [],
   "source": [
    "\"\"\"\n",
    "DON'T MODIFY ANYTHING IN THIS CELL\n",
    "\"\"\"\n",
    "import pickle\n",
    "import problem_unittests as tests\n",
    "import helper\n",
    "\n",
    "# Load the Preprocessed Validation data\n",
    "valid_features, valid_labels = pickle.load(open('preprocess_validation.p', mode='rb'))"
   ]
  },
  {
   "cell_type": "markdown",
   "metadata": {},
   "source": [
    "## Build the network\n",
    "For the neural network, you'll build each layer into a function.  Most of the code you've seen has been outside of functions. To test your code more thoroughly, we require that you put each layer in a function.  This allows us to give you better feedback and test for simple mistakes using our unittests before you submit your project.\n",
    "\n",
    ">**Note:** If you're finding it hard to dedicate enough time for this course each week, we've provided a small shortcut to this part of the project. In the next couple of problems, you'll have the option to use classes from the [TensorFlow Layers](https://www.tensorflow.org/api_docs/python/tf/layers) or [TensorFlow Layers (contrib)](https://www.tensorflow.org/api_guides/python/contrib.layers) packages to build each layer, except the layers you build in the \"Convolutional and Max Pooling Layer\" section.  TF Layers is similar to Keras's and TFLearn's abstraction to layers, so it's easy to pickup.\n",
    "\n",
    ">However, if you would like to get the most out of this course, try to solve all the problems _without_ using anything from the TF Layers packages. You **can** still use classes from other packages that happen to have the same name as ones you find in TF Layers! For example, instead of using the TF Layers version of the `conv2d` class, [tf.layers.conv2d](https://www.tensorflow.org/api_docs/python/tf/layers/conv2d), you would want to use the TF Neural Network version of `conv2d`, [tf.nn.conv2d](https://www.tensorflow.org/api_docs/python/tf/nn/conv2d). \n",
    "\n",
    "Let's begin!\n",
    "\n",
    "### Input\n",
    "The neural network needs to read the image data, one-hot encoded labels, and dropout keep probability. Implement the following functions\n",
    "* Implement `neural_net_image_input`\n",
    " * Return a [TF Placeholder](https://www.tensorflow.org/api_docs/python/tf/placeholder)\n",
    " * Set the shape using `image_shape` with batch size set to `None`.\n",
    " * Name the TensorFlow placeholder \"x\" using the TensorFlow `name` parameter in the [TF Placeholder](https://www.tensorflow.org/api_docs/python/tf/placeholder).\n",
    "* Implement `neural_net_label_input`\n",
    " * Return a [TF Placeholder](https://www.tensorflow.org/api_docs/python/tf/placeholder)\n",
    " * Set the shape using `n_classes` with batch size set to `None`.\n",
    " * Name the TensorFlow placeholder \"y\" using the TensorFlow `name` parameter in the [TF Placeholder](https://www.tensorflow.org/api_docs/python/tf/placeholder).\n",
    "* Implement `neural_net_keep_prob_input`\n",
    " * Return a [TF Placeholder](https://www.tensorflow.org/api_docs/python/tf/placeholder) for dropout keep probability.\n",
    " * Name the TensorFlow placeholder \"keep_prob\" using the TensorFlow `name` parameter in the [TF Placeholder](https://www.tensorflow.org/api_docs/python/tf/placeholder).\n",
    "\n",
    "These names will be used at the end of the project to load your saved model.\n",
    "\n",
    "Note: `None` for shapes in TensorFlow allow for a dynamic size."
   ]
  },
  {
   "cell_type": "code",
   "execution_count": 7,
   "metadata": {},
   "outputs": [
    {
     "name": "stdout",
     "output_type": "stream",
     "text": [
      "Image Input Tests Passed.\n",
      "Label Input Tests Passed.\n",
      "Keep Prob Tests Passed.\n"
     ]
    }
   ],
   "source": [
    "import tensorflow as tf\n",
    "\n",
    "def neural_net_image_input(image_shape):\n",
    "    \"\"\"\n",
    "    Return a Tensor for a batch of image input\n",
    "    : image_shape: Shape of the images\n",
    "    : return: Tensor for image input.\n",
    "    \"\"\"\n",
    "    # TODO: Implement Function\n",
    "    return tf.placeholder(tf.float32, shape=([None, image_shape[0], image_shape[1], image_shape[2]]), name=\"x\")\n",
    "\n",
    "\n",
    "\n",
    "def neural_net_label_input(n_classes):\n",
    "    \"\"\"\n",
    "    Return a Tensor for a batch of label input\n",
    "    : n_classes: Number of classes\n",
    "    : return: Tensor for label input.\n",
    "    \"\"\"\n",
    "    # TODO: Implement Function\n",
    "    return tf.placeholder(tf.float32, shape=[None, n_classes], name=\"y\")\n",
    "\n",
    "\n",
    "def neural_net_keep_prob_input():\n",
    "    \"\"\"\n",
    "    Return a Tensor for keep probability\n",
    "    : return: Tensor for keep probability.\n",
    "    \"\"\"\n",
    "    # TODO: Implement Function\n",
    "    return tf.placeholder(tf.float32, name=\"keep_prob\")\n",
    "\n",
    "\n",
    "\"\"\"\n",
    "DON'T MODIFY ANYTHING IN THIS CELL THAT IS BELOW THIS LINE\n",
    "\"\"\"\n",
    "tf.reset_default_graph()\n",
    "tests.test_nn_image_inputs(neural_net_image_input)\n",
    "tests.test_nn_label_inputs(neural_net_label_input)\n",
    "tests.test_nn_keep_prob_inputs(neural_net_keep_prob_input)"
   ]
  },
  {
   "cell_type": "markdown",
   "metadata": {},
   "source": [
    "### Convolution and Max Pooling Layer\n",
    "Convolution layers have a lot of success with images. For this code cell, you should implement the function `conv2d_maxpool` to apply convolution then max pooling:\n",
    "* Create the weight and bias using `conv_ksize`, `conv_num_outputs` and the shape of `x_tensor`.\n",
    "* Apply a convolution to `x_tensor` using weight and `conv_strides`.\n",
    " * We recommend you use same padding, but you're welcome to use any padding.\n",
    "* Add bias\n",
    "* Add a nonlinear activation to the convolution.\n",
    "* Apply Max Pooling using `pool_ksize` and `pool_strides`.\n",
    " * We recommend you use same padding, but you're welcome to use any padding.\n",
    "\n",
    "**Note:** You **can't** use [TensorFlow Layers](https://www.tensorflow.org/api_docs/python/tf/layers) or [TensorFlow Layers (contrib)](https://www.tensorflow.org/api_guides/python/contrib.layers) for **this** layer, but you can still use TensorFlow's [Neural Network](https://www.tensorflow.org/api_docs/python/tf/nn) package. You may still use the shortcut option for all the **other** layers.\n",
    "\n",
    "** Hint: **\n",
    "\n",
    "When unpacking values as an argument in Python, look into the [unpacking](https://docs.python.org/3/tutorial/controlflow.html#unpacking-argument-lists) operator. "
   ]
  },
  {
   "cell_type": "code",
   "execution_count": 11,
   "metadata": {
    "scrolled": false
   },
   "outputs": [
    {
     "name": "stdout",
     "output_type": "stream",
     "text": [
      "Tests Passed\n"
     ]
    }
   ],
   "source": [
    "def conv2d_maxpool(x_tensor, conv_num_outputs, conv_ksize, conv_strides, pool_ksize, pool_strides):\n",
    "    \"\"\"\n",
    "    Apply convolution then max pooling to x_tensor\n",
    "    :param x_tensor: TensorFlow Tensor\n",
    "    :param conv_num_outputs: Number of outputs for the convolutional layer\n",
    "    :param conv_ksize: kernal size 2-D Tuple for the convolutional layer\n",
    "    :param conv_strides: Stride 2-D Tuple for convolution\n",
    "    :param pool_ksize: kernal size 2-D Tuple for pool\n",
    "    :param pool_strides: Stride 2-D Tuple for pool\n",
    "    : return: A tensor that represents convolution and max pooling of x_tensor\n",
    "    \"\"\"\n",
    "    # TODO: Implement Function    \n",
    "    x_tensor_shape = np.shape(x_tensor).as_list()\n",
    "    weight = tf.Variable(tf.truncated_normal([conv_ksize[0], conv_ksize[1], x_tensor_shape[3], conv_num_outputs], stddev=0.1)) #[patch_size[0], patch_size[1], input_channels, output_channels]\n",
    "    bias = tf.Variable(tf.constant(0.1, shape=[conv_num_outputs]))\n",
    "\n",
    "    h_conv1 = tf.nn.conv2d(x_tensor, weight, strides=[1,conv_strides[0],conv_strides[1],1], padding='SAME')\n",
    "    h_conv1 = tf.nn.bias_add(h_conv1, bias)\n",
    "    h_conv1 = tf.nn.relu(h_conv1)\n",
    "    \n",
    "    return tf.nn.max_pool(h_conv1, ksize=[1, pool_ksize[0], pool_ksize[1], 1], strides=[1, pool_strides[0], pool_strides[1], 1], padding='SAME')\n",
    "    \n",
    "\n",
    "\n",
    "\"\"\"\n",
    "DON'T MODIFY ANYTHING IN THIS CELL THAT IS BELOW THIS LINE\n",
    "\"\"\"\n",
    "tests.test_con_pool(conv2d_maxpool)"
   ]
  },
  {
   "cell_type": "markdown",
   "metadata": {},
   "source": [
    "### Flatten Layer\n",
    "Implement the `flatten` function to change the dimension of `x_tensor` from a 4-D tensor to a 2-D tensor.  The output should be the shape (*Batch Size*, *Flattened Image Size*). Shortcut option: you can use classes from the [TensorFlow Layers](https://www.tensorflow.org/api_docs/python/tf/layers) or [TensorFlow Layers (contrib)](https://www.tensorflow.org/api_guides/python/contrib.layers) packages for this layer. For more of a challenge, only use other TensorFlow packages."
   ]
  },
  {
   "cell_type": "code",
   "execution_count": 15,
   "metadata": {},
   "outputs": [
    {
     "name": "stdout",
     "output_type": "stream",
     "text": [
      "Tests Passed\n"
     ]
    }
   ],
   "source": [
    "def flatten(x_tensor):\n",
    "    \"\"\"\n",
    "    Flatten x_tensor to (Batch Size, Flattened Image Size)\n",
    "    : x_tensor: A tensor of size (Batch Size, ...), where ... are the image dimensions.\n",
    "    : return: A tensor of size (Batch Size, Flattened Image Size).\n",
    "    \"\"\"\n",
    "    # TODO: Implement Function\n",
    "    x_tensor_shape = x_tensor.get_shape().as_list()    \n",
    "    return tf.reshape(x_tensor, (-1, x_tensor_shape[1]*x_tensor_shape[2]*x_tensor_shape[3]))\n",
    "\n",
    "\n",
    "\"\"\"\n",
    "DON'T MODIFY ANYTHING IN THIS CELL THAT IS BELOW THIS LINE\n",
    "\"\"\"\n",
    "tests.test_flatten(flatten)"
   ]
  },
  {
   "cell_type": "markdown",
   "metadata": {},
   "source": [
    "### Fully-Connected Layer\n",
    "Implement the `fully_conn` function to apply a fully connected layer to `x_tensor` with the shape (*Batch Size*, *num_outputs*). Shortcut option: you can use classes from the [TensorFlow Layers](https://www.tensorflow.org/api_docs/python/tf/layers) or [TensorFlow Layers (contrib)](https://www.tensorflow.org/api_guides/python/contrib.layers) packages for this layer. For more of a challenge, only use other TensorFlow packages."
   ]
  },
  {
   "cell_type": "code",
   "execution_count": 16,
   "metadata": {},
   "outputs": [
    {
     "name": "stdout",
     "output_type": "stream",
     "text": [
      "Tests Passed\n"
     ]
    }
   ],
   "source": [
    "def fully_conn(x_tensor, num_outputs):\n",
    "    \"\"\"\n",
    "    Apply a fully connected layer to x_tensor using weight and bias\n",
    "    : x_tensor: A 2-D tensor where the first dimension is batch size.\n",
    "    : num_outputs: The number of output that the new tensor should be.\n",
    "    : return: A 2-D tensor where the second dimension is num_outputs.\n",
    "    \"\"\"\n",
    "    # TODO: Implement Function\n",
    "    x_tensor_shape = np.shape(x_tensor).as_list()\n",
    "    weight = tf.Variable(tf.truncated_normal(shape=[x_tensor_shape[1], num_outputs], stddev=0.1))\n",
    "    bias = tf.Variable(tf.constant(0.1, shape=[num_outputs]))\n",
    "    return tf.nn.relu(tf.matmul(x_tensor, weight) + bias)\n",
    "\n",
    "\n",
    "\"\"\"\n",
    "DON'T MODIFY ANYTHING IN THIS CELL THAT IS BELOW THIS LINE\n",
    "\"\"\"\n",
    "tests.test_fully_conn(fully_conn)"
   ]
  },
  {
   "cell_type": "markdown",
   "metadata": {},
   "source": [
    "### Output Layer\n",
    "Implement the `output` function to apply a fully connected layer to `x_tensor` with the shape (*Batch Size*, *num_outputs*). Shortcut option: you can use classes from the [TensorFlow Layers](https://www.tensorflow.org/api_docs/python/tf/layers) or [TensorFlow Layers (contrib)](https://www.tensorflow.org/api_guides/python/contrib.layers) packages for this layer. For more of a challenge, only use other TensorFlow packages.\n",
    "\n",
    "**Note:** Activation, softmax, or cross entropy should **not** be applied to this."
   ]
  },
  {
   "cell_type": "code",
   "execution_count": 27,
   "metadata": {},
   "outputs": [
    {
     "name": "stdout",
     "output_type": "stream",
     "text": [
      "Tests Passed\n"
     ]
    }
   ],
   "source": [
    "def output(x_tensor, num_outputs):\n",
    "    \"\"\"\n",
    "    Apply a output layer to x_tensor using weight and bias\n",
    "    : x_tensor: A 2-D tensor where the first dimension is batch size.\n",
    "    : num_outputs: The number of output that the new tensor should be.\n",
    "    : return: A 2-D tensor where the second dimension is num_outputs.\n",
    "    \"\"\"\n",
    "    # TODO: Implement Function\n",
    "    x_tensor_shape = np.shape(x_tensor).as_list()\n",
    "    weight = tf.Variable(tf.truncated_normal(shape=[x_tensor_shape[1], num_outputs], stddev=0.1))\n",
    "    bias = tf.Variable(tf.constant(0.1, shape=[num_outputs]))\n",
    "    return tf.add(tf.matmul(x_tensor, weight),bias)\n",
    "\n",
    "\n",
    "\"\"\"\n",
    "DON'T MODIFY ANYTHING IN THIS CELL THAT IS BELOW THIS LINE\n",
    "\"\"\"\n",
    "tests.test_output(output)"
   ]
  },
  {
   "cell_type": "markdown",
   "metadata": {},
   "source": [
    "### Create Convolutional Model\n",
    "Implement the function `conv_net` to create a convolutional neural network model. The function takes in a batch of images, `x`, and outputs logits.  Use the layers you created above to create this model:\n",
    "\n",
    "* Apply 1, 2, or 3 Convolution and Max Pool layers\n",
    "* Apply a Flatten Layer\n",
    "* Apply 1, 2, or 3 Fully Connected Layers\n",
    "* Apply an Output Layer\n",
    "* Return the output\n",
    "* Apply [TensorFlow's Dropout](https://www.tensorflow.org/api_docs/python/tf/nn/dropout) to one or more layers in the model using `keep_prob`. "
   ]
  },
  {
   "cell_type": "code",
   "execution_count": 79,
   "metadata": {
    "scrolled": false
   },
   "outputs": [
    {
     "name": "stdout",
     "output_type": "stream",
     "text": [
      "Neural Network Built!\n"
     ]
    }
   ],
   "source": [
    "def conv_net(x, keep_prob):\n",
    "    \"\"\"\n",
    "    Create a convolutional neural network model\n",
    "    : x: Placeholder tensor that holds image data.\n",
    "    : keep_prob: Placeholder tensor that hold dropout keep probability.\n",
    "    : return: Tensor that represents logits\n",
    "    \"\"\"\n",
    "    # TODO: Apply 1, 2, or 3 Convolution and Max Pool layers\n",
    "    #    Play around with different number of outputs, kernel size and stride\n",
    "    # Function Definition from Above:\n",
    "    #    conv2d_maxpool(x_tensor, conv_num_outputs, conv_ksize, conv_strides, pool_ksize, pool_strides)\n",
    "    \n",
    "    #layer_conv_pool 1: (32,32,3) to (ceil(32/1),32,32) to (ceil(32/2),16,32)\n",
    "    conv1 = conv2d_maxpool(x, 32, (3,3), (2,2), (2,2), (2,2))\n",
    "    #layer_conv_pool 2: (16,16,32) to (ceil(16/2),8,64) to (ceil(8/2),4,64)\n",
    "    conv2 = conv2d_maxpool(conv1, 64, (3,3), (2,2), (2,2), (2,2))\n",
    "    #layer_conv_pool 3: (4,4,64) to (\"ceil(4/1),4,128) to (ceil(4/2),2,128)\n",
    "    conv3 = conv2d_maxpool(conv2, 128, (2,2), (2,2), (2,2), (2,2))\n",
    "    \n",
    "    # TODO: Apply a Flatten Layer\n",
    "    # Function Definition from Above:\n",
    "    #   flatten(x_tensor)\n",
    "    x_flat = flatten(conv3)\n",
    "    #x_flat = tf.nn.dropout(x_flat, keep_prob)\n",
    "\n",
    "    # TODO: Apply 1, 2, or 3 Fully Connected Layers\n",
    "    #    Play around with different number of outputs\n",
    "    # Function Definition from Above:\n",
    "    #   fully_conn(x_tensor, num_outputs)\n",
    "    full_conn1 = fully_conn(x_flat, 512)\n",
    "    full_conn1 = tf.nn.dropout(full_conn1, keep_prob)\n",
    "    full_conn2 = fully_conn(full_conn1, 256)\n",
    "    full_conn2 = tf.nn.dropout(full_conn2, keep_prob)\n",
    "    full_conn3 = fully_conn(full_conn2, 128)\n",
    "    full_conn3 = tf.nn.dropout(full_conn3, keep_prob)\n",
    "    \n",
    "    # TODO: Apply an Output Layer\n",
    "    #    Set this to the number of classes\n",
    "    # Function Definition from Above:\n",
    "    #   output(x_tensor, num_outputs)\n",
    "\n",
    "    # TODO: return output\n",
    "    # return output(x, np.shape(y)[1])\n",
    "    return output(full_conn3, y.get_shape().as_list()[1])\n",
    "  \n",
    "    print(\"this is test for np.shape(y)[1]:\",np.shape(y)[1])\n",
    "    print(\"this is test for y.get_shape().as_list()[1]:\",y.get_shape().as_list()[1])\n",
    "    print(\"both lines output as number 10, one works but the other doesn't. don't know why.\")\n",
    "\n",
    "\n",
    "\"\"\"\n",
    "DON'T MODIFY ANYTHING IN THIS CELL THAT IS BELOW THIS LINE\n",
    "\"\"\"\n",
    "\n",
    "##############################\n",
    "## Build the Neural Network ##\n",
    "##############################\n",
    "\n",
    "# Remove previous weights, bias, inputs, etc..\n",
    "tf.reset_default_graph()\n",
    "\n",
    "# Inputs\n",
    "x = neural_net_image_input((32, 32, 3))\n",
    "y = neural_net_label_input(10)\n",
    "keep_prob = neural_net_keep_prob_input()\n",
    "\n",
    "# Model\n",
    "logits = conv_net(x, keep_prob)\n",
    "\n",
    "# Name logits Tensor, so that is can be loaded from disk after training\n",
    "logits = tf.identity(logits, name='logits')\n",
    "\n",
    "# Loss and Optimizer\n",
    "cost = tf.reduce_mean(tf.nn.softmax_cross_entropy_with_logits(logits=logits, labels=y))\n",
    "optimizer = tf.train.AdamOptimizer().minimize(cost)\n",
    "\n",
    "# Accuracy\n",
    "correct_pred = tf.equal(tf.argmax(logits, 1), tf.argmax(y, 1))\n",
    "accuracy = tf.reduce_mean(tf.cast(correct_pred, tf.float32), name='accuracy')\n",
    "\n",
    "tests.test_conv_net(conv_net)"
   ]
  },
  {
   "cell_type": "markdown",
   "metadata": {},
   "source": [
    "## Train the Neural Network\n",
    "### Single Optimization\n",
    "Implement the function `train_neural_network` to do a single optimization.  The optimization should use `optimizer` to optimize in `session` with a `feed_dict` of the following:\n",
    "* `x` for image input\n",
    "* `y` for labels\n",
    "* `keep_prob` for keep probability for dropout\n",
    "\n",
    "This function will be called for each batch, so `tf.global_variables_initializer()` has already been called.\n",
    "\n",
    "Note: Nothing needs to be returned. This function is only optimizing the neural network."
   ]
  },
  {
   "cell_type": "code",
   "execution_count": 30,
   "metadata": {},
   "outputs": [
    {
     "name": "stdout",
     "output_type": "stream",
     "text": [
      "Tests Passed\n"
     ]
    }
   ],
   "source": [
    "def train_neural_network(session, optimizer, keep_probability, feature_batch, label_batch):\n",
    "    \"\"\"\n",
    "    Optimize the session on a batch of images and labels\n",
    "    : session: Current TensorFlow session\n",
    "    : optimizer: TensorFlow optimizer function\n",
    "    : keep_probability: keep probability\n",
    "    : feature_batch: Batch of Numpy image data\n",
    "    : label_batch: Batch of Numpy label data\n",
    "    \"\"\"\n",
    "    # TODO: Implement Function\n",
    "    session.run(optimizer, feed_dict={x:feature_batch, y:label_batch, keep_prob:keep_probability})\n",
    "    pass\n",
    "\n",
    "\n",
    "\"\"\"\n",
    "DON'T MODIFY ANYTHING IN THIS CELL THAT IS BELOW THIS LINE\n",
    "\"\"\"\n",
    "tests.test_train_nn(train_neural_network)"
   ]
  },
  {
   "cell_type": "markdown",
   "metadata": {},
   "source": [
    "### Show Stats\n",
    "Implement the function `print_stats` to print loss and validation accuracy.  Use the global variables `valid_features` and `valid_labels` to calculate validation accuracy.  Use a keep probability of `1.0` to calculate the loss and validation accuracy."
   ]
  },
  {
   "cell_type": "code",
   "execution_count": 41,
   "metadata": {
    "collapsed": true
   },
   "outputs": [],
   "source": [
    "def print_stats(session, feature_batch, label_batch, cost, accuracy):\n",
    "    \"\"\"\n",
    "    Print information about loss and validation accuracy\n",
    "    : session: Current TensorFlow session\n",
    "    : feature_batch: Batch of Numpy image data\n",
    "    : label_batch: Batch of Numpy label data\n",
    "    : cost: TensorFlow cost function\n",
    "    : accuracy: TensorFlow accuracy function\n",
    "    \"\"\"\n",
    "    # TODO: Implement Function\n",
    "    loss = session.run(cost, feed_dict={x: feature_batch, y: label_batch, keep_prob:1.0})\n",
    "    validate_accu = session.run(accuracy, feed_dict={x: valid_features, y: valid_labels, keep_prob:1.0})\n",
    "    print(\"(Loss {:6.4f} Validation_accuracy {:.4f})\".format(loss, validate_accu))\n",
    "    pass"
   ]
  },
  {
   "cell_type": "markdown",
   "metadata": {},
   "source": [
    "### Hyperparameters\n",
    "Tune the following parameters:\n",
    "* Set `epochs` to the number of iterations until the network stops learning or start overfitting\n",
    "* Set `batch_size` to the highest number that your machine has memory for.  Most people set them to common sizes of memory:\n",
    " * 64\n",
    " * 128\n",
    " * 256\n",
    " * ...\n",
    "* Set `keep_probability` to the probability of keeping a node using dropout"
   ]
  },
  {
   "cell_type": "code",
   "execution_count": 83,
   "metadata": {
    "collapsed": true
   },
   "outputs": [],
   "source": [
    "# TODO: Tune Parameters\n",
    "epochs = 10\n",
    "batch_size = 128\n",
    "keep_probability = 0.75"
   ]
  },
  {
   "cell_type": "markdown",
   "metadata": {},
   "source": [
    "### Train on a Single CIFAR-10 Batch\n",
    "Instead of training the neural network on all the CIFAR-10 batches of data, let's use a single batch. This should save time while you iterate on the model to get a better accuracy.  Once the final validation accuracy is 50% or greater, run the model on all the data in the next section."
   ]
  },
  {
   "cell_type": "code",
   "execution_count": 80,
   "metadata": {},
   "outputs": [
    {
     "name": "stdout",
     "output_type": "stream",
     "text": [
      "Checking the Training on a Single Batch...\n",
      "Epoch  1, CIFAR-10 Batch 1:  (Loss 2.2545 Validation_accuracy 0.1914)\n",
      "Epoch  2, CIFAR-10 Batch 1:  (Loss 2.1064 Validation_accuracy 0.2626)\n",
      "Epoch  3, CIFAR-10 Batch 1:  (Loss 2.0091 Validation_accuracy 0.2962)\n",
      "Epoch  4, CIFAR-10 Batch 1:  (Loss 1.8620 Validation_accuracy 0.3380)\n",
      "Epoch  5, CIFAR-10 Batch 1:  (Loss 1.6893 Validation_accuracy 0.3618)\n",
      "Epoch  6, CIFAR-10 Batch 1:  (Loss 1.6781 Validation_accuracy 0.3788)\n",
      "Epoch  7, CIFAR-10 Batch 1:  (Loss 1.5555 Validation_accuracy 0.3934)\n",
      "Epoch  8, CIFAR-10 Batch 1:  (Loss 1.4021 Validation_accuracy 0.4244)\n",
      "Epoch  9, CIFAR-10 Batch 1:  (Loss 1.3486 Validation_accuracy 0.4478)\n",
      "Epoch 10, CIFAR-10 Batch 1:  (Loss 1.2574 Validation_accuracy 0.4526)\n",
      "Epoch 11, CIFAR-10 Batch 1:  (Loss 1.2714 Validation_accuracy 0.4476)\n",
      "Epoch 12, CIFAR-10 Batch 1:  (Loss 1.1478 Validation_accuracy 0.4512)\n",
      "Epoch 13, CIFAR-10 Batch 1:  (Loss 1.0828 Validation_accuracy 0.4630)\n",
      "Epoch 14, CIFAR-10 Batch 1:  (Loss 1.0530 Validation_accuracy 0.4628)\n",
      "Epoch 15, CIFAR-10 Batch 1:  (Loss 0.9356 Validation_accuracy 0.4770)\n",
      "Epoch 16, CIFAR-10 Batch 1:  (Loss 0.8558 Validation_accuracy 0.4870)\n",
      "Epoch 17, CIFAR-10 Batch 1:  (Loss 0.8103 Validation_accuracy 0.4952)\n",
      "Epoch 18, CIFAR-10 Batch 1:  (Loss 0.7974 Validation_accuracy 0.4916)\n",
      "Epoch 19, CIFAR-10 Batch 1:  (Loss 0.7676 Validation_accuracy 0.4992)\n",
      "Epoch 20, CIFAR-10 Batch 1:  (Loss 0.7434 Validation_accuracy 0.4980)\n"
     ]
    }
   ],
   "source": [
    "\"\"\"\n",
    "DON'T MODIFY ANYTHING IN THIS CELL\n",
    "\"\"\"\n",
    "print('Checking the Training on a Single Batch...')\n",
    "with tf.Session() as sess:\n",
    "    # Initializing the variables\n",
    "    sess.run(tf.global_variables_initializer())\n",
    "    \n",
    "    # Training cycle\n",
    "    for epoch in range(epochs):\n",
    "        batch_i = 1\n",
    "        for batch_features, batch_labels in helper.load_preprocess_training_batch(batch_i, batch_size):\n",
    "            train_neural_network(sess, optimizer, keep_probability, batch_features, batch_labels)\n",
    "        print('Epoch {:>2}, CIFAR-10 Batch {}:  '.format(epoch + 1, batch_i), end='')\n",
    "        print_stats(sess, batch_features, batch_labels, cost, accuracy)"
   ]
  },
  {
   "cell_type": "markdown",
   "metadata": {},
   "source": [
    "### Fully Train the Model\n",
    "Now that you got a good accuracy with a single CIFAR-10 batch, try it with all five batches."
   ]
  },
  {
   "cell_type": "code",
   "execution_count": 82,
   "metadata": {},
   "outputs": [
    {
     "name": "stdout",
     "output_type": "stream",
     "text": [
      "Training...\n",
      "Epoch  1, CIFAR-10 Batch 1:  (Loss 2.1331 Validation_accuracy 0.2510)\n",
      "Epoch  1, CIFAR-10 Batch 2:  (Loss 1.8141 Validation_accuracy 0.3524)\n",
      "Epoch  1, CIFAR-10 Batch 3:  (Loss 1.5525 Validation_accuracy 0.3752)\n",
      "Epoch  1, CIFAR-10 Batch 4:  (Loss 1.6017 Validation_accuracy 0.3870)\n",
      "Epoch  1, CIFAR-10 Batch 5:  (Loss 1.7529 Validation_accuracy 0.4220)\n",
      "Epoch  2, CIFAR-10 Batch 1:  (Loss 1.7331 Validation_accuracy 0.4454)\n",
      "Epoch  2, CIFAR-10 Batch 2:  (Loss 1.5116 Validation_accuracy 0.4592)\n",
      "Epoch  2, CIFAR-10 Batch 3:  (Loss 1.1956 Validation_accuracy 0.4640)\n",
      "Epoch  2, CIFAR-10 Batch 4:  (Loss 1.2985 Validation_accuracy 0.4678)\n",
      "Epoch  2, CIFAR-10 Batch 5:  (Loss 1.6113 Validation_accuracy 0.4854)\n",
      "Epoch  3, CIFAR-10 Batch 1:  (Loss 1.5264 Validation_accuracy 0.4760)\n",
      "Epoch  3, CIFAR-10 Batch 2:  (Loss 1.3128 Validation_accuracy 0.4996)\n",
      "Epoch  3, CIFAR-10 Batch 3:  (Loss 1.0833 Validation_accuracy 0.4972)\n",
      "Epoch  3, CIFAR-10 Batch 4:  (Loss 1.1503 Validation_accuracy 0.5166)\n",
      "Epoch  3, CIFAR-10 Batch 5:  (Loss 1.3778 Validation_accuracy 0.5180)\n",
      "Epoch  4, CIFAR-10 Batch 1:  (Loss 1.3369 Validation_accuracy 0.5064)\n",
      "Epoch  4, CIFAR-10 Batch 2:  (Loss 1.1832 Validation_accuracy 0.5102)\n",
      "Epoch  4, CIFAR-10 Batch 3:  (Loss 1.0017 Validation_accuracy 0.5296)\n",
      "Epoch  4, CIFAR-10 Batch 4:  (Loss 1.0244 Validation_accuracy 0.5310)\n",
      "Epoch  4, CIFAR-10 Batch 5:  (Loss 1.1777 Validation_accuracy 0.5448)\n",
      "Epoch  5, CIFAR-10 Batch 1:  (Loss 1.2737 Validation_accuracy 0.5238)\n",
      "Epoch  5, CIFAR-10 Batch 2:  (Loss 1.0891 Validation_accuracy 0.5364)\n",
      "Epoch  5, CIFAR-10 Batch 3:  (Loss 1.0011 Validation_accuracy 0.5340)\n",
      "Epoch  5, CIFAR-10 Batch 4:  (Loss 1.0001 Validation_accuracy 0.5576)\n",
      "Epoch  5, CIFAR-10 Batch 5:  (Loss 1.0817 Validation_accuracy 0.5606)\n",
      "Epoch  6, CIFAR-10 Batch 1:  (Loss 1.1097 Validation_accuracy 0.5406)\n",
      "Epoch  6, CIFAR-10 Batch 2:  (Loss 1.0292 Validation_accuracy 0.5606)\n",
      "Epoch  6, CIFAR-10 Batch 3:  (Loss 0.9087 Validation_accuracy 0.5612)\n",
      "Epoch  6, CIFAR-10 Batch 4:  (Loss 1.0281 Validation_accuracy 0.5692)\n",
      "Epoch  6, CIFAR-10 Batch 5:  (Loss 1.0298 Validation_accuracy 0.5664)\n",
      "Epoch  7, CIFAR-10 Batch 1:  (Loss 1.0406 Validation_accuracy 0.5490)\n",
      "Epoch  7, CIFAR-10 Batch 2:  (Loss 0.9804 Validation_accuracy 0.5626)\n",
      "Epoch  7, CIFAR-10 Batch 3:  (Loss 0.8859 Validation_accuracy 0.5646)\n",
      "Epoch  7, CIFAR-10 Batch 4:  (Loss 0.9272 Validation_accuracy 0.5700)\n",
      "Epoch  7, CIFAR-10 Batch 5:  (Loss 0.9710 Validation_accuracy 0.5780)\n",
      "Epoch  8, CIFAR-10 Batch 1:  (Loss 0.9383 Validation_accuracy 0.5664)\n",
      "Epoch  8, CIFAR-10 Batch 2:  (Loss 0.9371 Validation_accuracy 0.5550)\n",
      "Epoch  8, CIFAR-10 Batch 3:  (Loss 0.8203 Validation_accuracy 0.5632)\n",
      "Epoch  8, CIFAR-10 Batch 4:  (Loss 0.8415 Validation_accuracy 0.5860)\n",
      "Epoch  8, CIFAR-10 Batch 5:  (Loss 0.9520 Validation_accuracy 0.5850)\n",
      "Epoch  9, CIFAR-10 Batch 1:  (Loss 0.8920 Validation_accuracy 0.5738)\n",
      "Epoch  9, CIFAR-10 Batch 2:  (Loss 0.8386 Validation_accuracy 0.5710)\n",
      "Epoch  9, CIFAR-10 Batch 3:  (Loss 0.8310 Validation_accuracy 0.5646)\n",
      "Epoch  9, CIFAR-10 Batch 4:  (Loss 0.7690 Validation_accuracy 0.5860)\n",
      "Epoch  9, CIFAR-10 Batch 5:  (Loss 0.8768 Validation_accuracy 0.5752)\n",
      "Epoch 10, CIFAR-10 Batch 1:  (Loss 0.8216 Validation_accuracy 0.5736)\n",
      "Epoch 10, CIFAR-10 Batch 2:  (Loss 0.7706 Validation_accuracy 0.5706)\n",
      "Epoch 10, CIFAR-10 Batch 3:  (Loss 0.6915 Validation_accuracy 0.5710)\n",
      "Epoch 10, CIFAR-10 Batch 4:  (Loss 0.7465 Validation_accuracy 0.5902)\n",
      "Epoch 10, CIFAR-10 Batch 5:  (Loss 0.7140 Validation_accuracy 0.5842)\n",
      "Epoch 11, CIFAR-10 Batch 1:  (Loss 0.7586 Validation_accuracy 0.5750)\n",
      "Epoch 11, CIFAR-10 Batch 2:  (Loss 0.7857 Validation_accuracy 0.5756)\n",
      "Epoch 11, CIFAR-10 Batch 3:  (Loss 0.6564 Validation_accuracy 0.5694)\n",
      "Epoch 11, CIFAR-10 Batch 4:  (Loss 0.7163 Validation_accuracy 0.5946)\n",
      "Epoch 11, CIFAR-10 Batch 5:  (Loss 0.7558 Validation_accuracy 0.5718)\n",
      "Epoch 12, CIFAR-10 Batch 1:  (Loss 0.7188 Validation_accuracy 0.5890)\n",
      "Epoch 12, CIFAR-10 Batch 2:  (Loss 0.7013 Validation_accuracy 0.5842)\n",
      "Epoch 12, CIFAR-10 Batch 3:  (Loss 0.5787 Validation_accuracy 0.5928)\n",
      "Epoch 12, CIFAR-10 Batch 4:  (Loss 0.6521 Validation_accuracy 0.5938)\n",
      "Epoch 12, CIFAR-10 Batch 5:  (Loss 0.6375 Validation_accuracy 0.5730)\n",
      "Epoch 13, CIFAR-10 Batch 1:  (Loss 0.6690 Validation_accuracy 0.5926)\n",
      "Epoch 13, CIFAR-10 Batch 2:  (Loss 0.7019 Validation_accuracy 0.5934)\n",
      "Epoch 13, CIFAR-10 Batch 3:  (Loss 0.4685 Validation_accuracy 0.6006)\n",
      "Epoch 13, CIFAR-10 Batch 4:  (Loss 0.5794 Validation_accuracy 0.5980)\n",
      "Epoch 13, CIFAR-10 Batch 5:  (Loss 0.6177 Validation_accuracy 0.5732)\n",
      "Epoch 14, CIFAR-10 Batch 1:  (Loss 0.6337 Validation_accuracy 0.5872)\n",
      "Epoch 14, CIFAR-10 Batch 2:  (Loss 0.5931 Validation_accuracy 0.5846)\n",
      "Epoch 14, CIFAR-10 Batch 3:  (Loss 0.4759 Validation_accuracy 0.5958)\n",
      "Epoch 14, CIFAR-10 Batch 4:  (Loss 0.5393 Validation_accuracy 0.6050)\n",
      "Epoch 14, CIFAR-10 Batch 5:  (Loss 0.4642 Validation_accuracy 0.5932)\n",
      "Epoch 15, CIFAR-10 Batch 1:  (Loss 0.5517 Validation_accuracy 0.6054)\n",
      "Epoch 15, CIFAR-10 Batch 2:  (Loss 0.5708 Validation_accuracy 0.5872)\n",
      "Epoch 15, CIFAR-10 Batch 3:  (Loss 0.4119 Validation_accuracy 0.6004)\n",
      "Epoch 15, CIFAR-10 Batch 4:  (Loss 0.5122 Validation_accuracy 0.6024)\n",
      "Epoch 15, CIFAR-10 Batch 5:  (Loss 0.4905 Validation_accuracy 0.5792)\n",
      "Epoch 16, CIFAR-10 Batch 1:  (Loss 0.5714 Validation_accuracy 0.6010)\n",
      "Epoch 16, CIFAR-10 Batch 2:  (Loss 0.5453 Validation_accuracy 0.5962)\n",
      "Epoch 16, CIFAR-10 Batch 3:  (Loss 0.4110 Validation_accuracy 0.5840)\n",
      "Epoch 16, CIFAR-10 Batch 4:  (Loss 0.4813 Validation_accuracy 0.6004)\n",
      "Epoch 16, CIFAR-10 Batch 5:  (Loss 0.4179 Validation_accuracy 0.5942)\n",
      "Epoch 17, CIFAR-10 Batch 1:  (Loss 0.4979 Validation_accuracy 0.5932)\n",
      "Epoch 17, CIFAR-10 Batch 2:  (Loss 0.4895 Validation_accuracy 0.5864)\n",
      "Epoch 17, CIFAR-10 Batch 3:  (Loss 0.4010 Validation_accuracy 0.5890)\n",
      "Epoch 17, CIFAR-10 Batch 4:  (Loss 0.4770 Validation_accuracy 0.6022)\n",
      "Epoch 17, CIFAR-10 Batch 5:  (Loss 0.4294 Validation_accuracy 0.5896)\n",
      "Epoch 18, CIFAR-10 Batch 1:  (Loss 0.4578 Validation_accuracy 0.6022)\n",
      "Epoch 18, CIFAR-10 Batch 2:  (Loss 0.4724 Validation_accuracy 0.5918)\n",
      "Epoch 18, CIFAR-10 Batch 3:  (Loss 0.3691 Validation_accuracy 0.5920)\n",
      "Epoch 18, CIFAR-10 Batch 4:  (Loss 0.4769 Validation_accuracy 0.6074)\n",
      "Epoch 18, CIFAR-10 Batch 5:  (Loss 0.4008 Validation_accuracy 0.5838)\n",
      "Epoch 19, CIFAR-10 Batch 1:  (Loss 0.4378 Validation_accuracy 0.5976)\n",
      "Epoch 19, CIFAR-10 Batch 2:  (Loss 0.5370 Validation_accuracy 0.5812)\n",
      "Epoch 19, CIFAR-10 Batch 3:  (Loss 0.3648 Validation_accuracy 0.5900)\n",
      "Epoch 19, CIFAR-10 Batch 4:  (Loss 0.4268 Validation_accuracy 0.6094)\n",
      "Epoch 19, CIFAR-10 Batch 5:  (Loss 0.4099 Validation_accuracy 0.6028)\n",
      "Epoch 20, CIFAR-10 Batch 1:  (Loss 0.4068 Validation_accuracy 0.6064)\n",
      "Epoch 20, CIFAR-10 Batch 2:  (Loss 0.4170 Validation_accuracy 0.5738)\n",
      "Epoch 20, CIFAR-10 Batch 3:  (Loss 0.3819 Validation_accuracy 0.5952)\n",
      "Epoch 20, CIFAR-10 Batch 4:  (Loss 0.4114 Validation_accuracy 0.6106)\n",
      "Epoch 20, CIFAR-10 Batch 5:  (Loss 0.3058 Validation_accuracy 0.6050)\n"
     ]
    }
   ],
   "source": [
    "\"\"\"\n",
    "DON'T MODIFY ANYTHING IN THIS CELL\n",
    "\"\"\"\n",
    "save_model_path = './image_classification'\n",
    "\n",
    "print('Training...')\n",
    "with tf.Session() as sess:\n",
    "    # Initializing the variables\n",
    "    sess.run(tf.global_variables_initializer())\n",
    "    \n",
    "    # Training cycle\n",
    "    for epoch in range(epochs):\n",
    "        # Loop over all batches\n",
    "        n_batches = 5\n",
    "        for batch_i in range(1, n_batches + 1):\n",
    "            for batch_features, batch_labels in helper.load_preprocess_training_batch(batch_i, batch_size):\n",
    "                train_neural_network(sess, optimizer, keep_probability, batch_features, batch_labels)\n",
    "            print('Epoch {:>2}, CIFAR-10 Batch {}:  '.format(epoch + 1, batch_i), end='')\n",
    "            print_stats(sess, batch_features, batch_labels, cost, accuracy)\n",
    "            \n",
    "    # Save Model\n",
    "    saver = tf.train.Saver()\n",
    "    save_path = saver.save(sess, save_model_path)"
   ]
  },
  {
   "cell_type": "markdown",
   "metadata": {},
   "source": [
    "# Checkpoint\n",
    "The model has been saved to disk.\n",
    "## Test Model\n",
    "Test your model against the test dataset.  This will be your final accuracy. You should have an accuracy greater than 50%. If you don't, keep tweaking the model architecture and parameters."
   ]
  },
  {
   "cell_type": "code",
   "execution_count": 84,
   "metadata": {},
   "outputs": [
    {
     "name": "stdout",
     "output_type": "stream",
     "text": [
      "INFO:tensorflow:Restoring parameters from ./image_classification\n",
      "Testing Accuracy: 0.6097705696202531\n",
      "\n"
     ]
    },
    {
     "data": {
      "image/png": "[encoded data removed]",
      "text/plain": [
       "<matplotlib.figure.Figure at 0x1060250f0>"
      ]
     },
     "metadata": {
      "image/png": {
       "height": 319,
       "width": 355
      }
     },
     "output_type": "display_data"
    }
   ],
   "source": [
    "\"\"\"\n",
    "DON'T MODIFY ANYTHING IN THIS CELL\n",
    "\"\"\"\n",
    "%matplotlib inline\n",
    "%config InlineBackend.figure_format = 'retina'\n",
    "\n",
    "import tensorflow as tf\n",
    "import pickle\n",
    "import helper\n",
    "import random\n",
    "\n",
    "# Set batch size if not already set\n",
    "try:\n",
    "    if batch_size:\n",
    "        pass\n",
    "except NameError:\n",
    "    batch_size = 64\n",
    "\n",
    "save_model_path = './image_classification'\n",
    "n_samples = 4\n",
    "top_n_predictions = 3\n",
    "\n",
    "def test_model():\n",
    "    \"\"\"\n",
    "    Test the saved model against the test dataset\n",
    "    \"\"\"\n",
    "\n",
    "    test_features, test_labels = pickle.load(open('preprocess_training.p', mode='rb'))\n",
    "    loaded_graph = tf.Graph()\n",
    "\n",
    "    with tf.Session(graph=loaded_graph) as sess:\n",
    "        # Load model\n",
    "        loader = tf.train.import_meta_graph(save_model_path + '.meta')\n",
    "        loader.restore(sess, save_model_path)\n",
    "\n",
    "        # Get Tensors from loaded model\n",
    "        loaded_x = loaded_graph.get_tensor_by_name('x:0')\n",
    "        loaded_y = loaded_graph.get_tensor_by_name('y:0')\n",
    "        loaded_keep_prob = loaded_graph.get_tensor_by_name('keep_prob:0')\n",
    "        loaded_logits = loaded_graph.get_tensor_by_name('logits:0')\n",
    "        loaded_acc = loaded_graph.get_tensor_by_name('accuracy:0')\n",
    "        \n",
    "        # Get accuracy in batches for memory limitations\n",
    "        test_batch_acc_total = 0\n",
    "        test_batch_count = 0\n",
    "        \n",
    "        for train_feature_batch, train_label_batch in helper.batch_features_labels(test_features, test_labels, batch_size):\n",
    "            test_batch_acc_total += sess.run(\n",
    "                loaded_acc,\n",
    "                feed_dict={loaded_x: train_feature_batch, loaded_y: train_label_batch, loaded_keep_prob: 1.0})\n",
    "            test_batch_count += 1\n",
    "\n",
    "        print('Testing Accuracy: {}\\n'.format(test_batch_acc_total/test_batch_count))\n",
    "\n",
    "        # Print Random Samples\n",
    "        random_test_features, random_test_labels = tuple(zip(*random.sample(list(zip(test_features, test_labels)), n_samples)))\n",
    "        random_test_predictions = sess.run(\n",
    "            tf.nn.top_k(tf.nn.softmax(loaded_logits), top_n_predictions),\n",
    "            feed_dict={loaded_x: random_test_features, loaded_y: random_test_labels, loaded_keep_prob: 1.0})\n",
    "        helper.display_image_predictions(random_test_features, random_test_labels, random_test_predictions)\n",
    "\n",
    "\n",
    "test_model()"
   ]
  },
  {
   "cell_type": "markdown",
   "metadata": {},
   "source": [
    "## Why 50-80% Accuracy?\n",
    "You might be wondering why you can't get an accuracy any higher. First things first, 50% isn't bad for a simple CNN.  Pure guessing would get you 10% accuracy. That's because there are many more techniques that can be applied to your model and we recemmond that once you are done with this project, you explore!\n",
    "\n",
    "## Submitting This Project\n",
    "When submitting this project, make sure to run all the cells before saving the notebook.  Save the notebook file as \"image_classification.ipynb\" and save it as a HTML file under \"File\" -> \"Download as\".  Include the \"helper.py\" and \"problem_unittests.py\" files in your submission."
   ]
  }
 ],
 "metadata": {
  "kernelspec": {
   "display_name": "Python 3",
   "language": "python",
   "name": "python3"
  },
  "language_info": {
   "codemirror_mode": {
    "name": "ipython",
    "version": 3
   },
   "file_extension": ".py",
   "mimetype": "text/x-python",
   "name": "python",
   "nbconvert_exporter": "python",
   "pygments_lexer": "ipython3",
   "version": "3.5.3"
  }
 },
 "nbformat": 4,
 "nbformat_minor": 1
}
